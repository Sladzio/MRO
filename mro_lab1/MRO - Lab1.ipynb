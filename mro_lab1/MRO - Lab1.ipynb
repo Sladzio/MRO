{
 "cells": [
  {
   "cell_type": "markdown",
   "metadata": {},
   "source": [
    "# Sprawozdanie Metody Rozpoznawania Obrazów\n",
    "## Laboratorium 1 - Metoda najbliższych sąsiadów\n",
    "### Wykonanie Patryk Sładek\n",
    "Celem ćwiczenia było praktyczne zapoznanie się z podstawowymi pojęciami metod rozpoznawania wzorców"
   ]
  },
  {
   "cell_type": "markdown",
   "metadata": {},
   "source": [
    "**Ćw.1** 1-NN z wykorzystaniem odległości euklidesowej"
   ]
  },
  {
   "cell_type": "markdown",
   "metadata": {},
   "source": [
    "W pierwszej kolejności wczytywanie danych faces.mat"
   ]
  },
  {
   "cell_type": "code",
   "execution_count": 5,
   "metadata": {
    "collapsed": true
   },
   "outputs": [],
   "source": [
    "from scipy import io as io\n",
    "\n",
    "def load_faces():\n",
    "    mat = io.loadmat('facesYale.mat')\n",
    "    x_train = mat['featuresTrain']\n",
    "    x_test = mat['featuresTest']\n",
    "    y_train = mat['personTrain'].flatten()\n",
    "    y_test = mat['personTest'].flatten()\n",
    "    return x_train, x_test, y_train, y_test"
   ]
  },
  {
   "cell_type": "code",
   "execution_count": 6,
   "metadata": {},
   "outputs": [
    {
     "name": "stdout",
     "output_type": "stream",
     "text": [
      "(array([[ -0.77371144,  19.9983068 ,   0.95785986, ...,  -3.97787759,\n",
      "         -2.68089837,  -4.25937776],\n",
      "       [-14.12646837,  23.49895937, -10.89247733, ...,  -3.24038105,\n",
      "          1.6076363 ,  -3.33658038],\n",
      "       [-11.3737303 ,  23.60965637, -10.30463164, ...,   0.82072538,\n",
      "          0.57232635,  -6.42296503],\n",
      "       ..., \n",
      "       [ 11.00457429,   6.40854313, -17.35040606, ...,   6.57904718,\n",
      "         -3.21790972,   4.43741055],\n",
      "       [ 12.54996194,   4.69693765, -15.35905122, ...,   5.25819668,\n",
      "         -1.88203268,   5.29519726],\n",
      "       [ 12.38473047,   2.78462084, -10.74272667, ...,   3.72925626,\n",
      "         -4.10522748,   1.93011487]]), array([[ -1.70052026e+01,   2.09078338e+01,  -6.19435900e+00,\n",
      "         -7.07703409e+00,  -7.10808068e+00,  -2.79464552e-01,\n",
      "         -2.39200968e+00,  -4.78293036e+00,   8.18532178e+00,\n",
      "         -7.85746944e+00],\n",
      "       [ -1.06233197e+01,   2.65566297e+01,  -8.24444830e+00,\n",
      "          1.23629320e+00,  -5.30178776e+00,  -1.74560935e+00,\n",
      "         -4.79487737e+00,   4.49348555e-01,  -1.71311006e+00,\n",
      "         -3.31696393e+00],\n",
      "       [  4.00925368e+00,  -7.18652406e+00,  -2.53171070e+00,\n",
      "         -3.29017170e+00,  -2.10622013e+00,   8.79293757e-01,\n",
      "         -6.23752661e+00,  -1.51471629e+00,  -2.71016175e+00,\n",
      "         -6.80565857e+00],\n",
      "       [  7.15224954e+00,  -1.84469797e+00,  -8.69176665e+00,\n",
      "          5.99056640e+00,   6.06589358e+00,  -1.39121681e+00,\n",
      "         -5.31171862e+00,   2.58948517e+00,  -2.38251105e+00,\n",
      "         -4.77861230e+00],\n",
      "       [  4.67934859e+00,   6.98990123e+00,  -1.84242081e+00,\n",
      "         -4.49165856e+00,  -3.93018989e-01,   3.40961876e-01,\n",
      "         -6.34243718e+00,  -3.44716581e+00,   7.37681031e+00,\n",
      "          1.35860344e+00],\n",
      "       [  1.05111575e+01,   1.23061851e+01,   3.71685440e+00,\n",
      "          1.08990649e+01,   8.81195139e+00,  -6.38294571e+00,\n",
      "         -4.94970840e+00,  -5.64673914e+00,   1.99749736e+00,\n",
      "          2.59618919e+00],\n",
      "       [  9.08983652e+00,  -6.05260595e+00,   1.18605211e+01,\n",
      "         -2.67031559e+00,  -3.90634247e+00,  -3.83889015e+00,\n",
      "          1.15601255e+00,  -5.88267481e+00,   7.13109511e-01,\n",
      "         -3.38872721e+00],\n",
      "       [  1.11828291e+01,  -6.71574891e+00,   1.14899287e+01,\n",
      "         -1.43635231e+00,  -6.04461509e+00,  -2.02811858e+00,\n",
      "         -6.34465276e-01,  -5.06352936e+00,  -2.56477031e+00,\n",
      "         -1.58672727e+00],\n",
      "       [ -3.29321272e+01,  -3.58907250e+00,   1.84566248e+00,\n",
      "          1.17410976e+01,  -4.29564326e+00,   2.17359580e+00,\n",
      "          1.46255497e+00,  -1.08509216e+00,  -2.12384751e+00,\n",
      "          1.39352440e+00],\n",
      "       [ -3.34364004e+01,  -4.05356693e+00,   2.19874269e+00,\n",
      "          1.05716181e+01,  -2.91468185e+00,   1.84630660e+00,\n",
      "          3.14253762e+00,  -1.54962016e+00,  -1.76245689e+00,\n",
      "          1.70231999e+00],\n",
      "       [ -5.33896318e-01,  -1.14254523e+01,   4.41007403e-01,\n",
      "         -5.07088729e+00,   3.36038577e+00,   7.43417716e+00,\n",
      "         -9.86782192e-01,  -9.29832790e-01,   3.34663244e+00,\n",
      "         -1.49057420e+00],\n",
      "       [  6.61173967e+00,  -7.35230510e+00,   2.13312646e+00,\n",
      "         -2.54739837e+00,   5.91065215e-01,   9.52715625e+00,\n",
      "         -2.98178398e+00,   1.26934110e+00,   2.09380464e-01,\n",
      "          1.03394817e+00],\n",
      "       [  1.19740026e+01,  -6.53403470e+00,   5.99079690e+00,\n",
      "          1.10583422e+01,  -6.37144062e+00,   1.01940969e+00,\n",
      "          5.71105074e+00,   2.19504800e+00,   1.86158102e-01,\n",
      "         -1.09481363e+00],\n",
      "       [  1.07953189e+01,  -4.27962092e+00,   8.31513779e+00,\n",
      "          1.42514500e+01,   1.26859000e+00,  -5.50951599e+00,\n",
      "          3.77399753e+00,  -2.96010246e+00,   2.85115412e+00,\n",
      "          1.98086583e+00],\n",
      "       [  1.75208592e+00,  -8.31846300e+00,  -2.03779063e+00,\n",
      "         -3.88355594e+00,   1.84098159e-01,   1.68133593e+00,\n",
      "         -2.96551977e+00,  -4.43066081e+00,  -4.68125595e+00,\n",
      "         -9.67973122e-01],\n",
      "       [  8.95905038e-01,  -9.31102899e+00,  -4.23642024e-01,\n",
      "         -7.81525052e+00,   4.08478345e-01,  -2.48001774e+00,\n",
      "         -1.10174737e+00,  -6.43538691e+00,  -6.71185155e+00,\n",
      "         -3.19872951e-01],\n",
      "       [ -1.46187268e+01,  -1.43302133e+01,  -1.88843835e+00,\n",
      "         -1.36828451e+01,   3.77629756e+00,  -3.06289417e+00,\n",
      "          4.59533818e+00,  -6.60866748e-02,   2.75394557e+00,\n",
      "         -1.44953963e+00],\n",
      "       [ -1.53262729e+01,  -1.30095616e+01,   2.42026721e+00,\n",
      "         -8.97180385e+00,   7.03318013e+00,  -7.83347730e+00,\n",
      "          4.34939218e+00,   1.60583391e+00,   5.42346405e+00,\n",
      "         -1.54333439e+00],\n",
      "       [  4.31207839e+00,  -8.08452932e+00,   3.42157326e+00,\n",
      "         -6.63057539e+00,  -2.50049441e+00,  -4.07164932e+00,\n",
      "          9.58476206e-01,  -3.22750666e+00,   4.23882353e+00,\n",
      "         -3.64348123e-01],\n",
      "       [  9.22752832e+00,  -6.96304768e+00,   2.15039484e+00,\n",
      "         -5.01333354e+00,  -7.20037870e+00,  -1.32802499e-01,\n",
      "         -2.77435717e+00,  -1.93214002e-01,   3.44864889e+00,\n",
      "          5.03529171e+00],\n",
      "       [ -1.96695222e+00,   1.56177789e+01,   1.45130314e+01,\n",
      "         -4.11016237e+00,   1.03837433e+01,  -8.49160217e+00,\n",
      "          9.26799417e+00,   3.11584567e+00,   6.75156307e+00,\n",
      "         -4.41649042e+00],\n",
      "       [  1.70475022e+00,   1.51279329e+01,   2.41303617e+01,\n",
      "         -6.54931083e+00,   3.35170944e-01,   2.10808210e+00,\n",
      "         -5.05645431e+00,   6.20408352e+00,  -9.25953728e+00,\n",
      "          1.85819219e+00],\n",
      "       [ -1.69047163e+01,  -1.04333727e+01,   7.12441753e+00,\n",
      "          7.09264824e+00,  -6.59772128e-01,  -3.33903052e+00,\n",
      "         -3.77886169e+00,  -1.01749225e+00,   4.10168647e+00,\n",
      "         -2.12361195e-01],\n",
      "       [ -1.73456940e+01,  -1.28891313e+01,   8.82938404e-01,\n",
      "          7.53286907e-01,  -4.75902765e-02,  -2.44457711e+00,\n",
      "         -6.91636868e+00,   1.55114311e+00,   2.00071421e+00,\n",
      "          2.06583804e+00],\n",
      "       [  1.04232969e+01,  -2.14486761e+00,   4.74394651e+00,\n",
      "          8.61266311e+00,   4.60538647e-01,   4.25154756e+00,\n",
      "          1.71677940e+00,   2.41983537e-02,   2.16237703e+00,\n",
      "         -3.26878874e+00],\n",
      "       [  1.30753834e+01,  -1.39495344e+00,   3.33961500e+00,\n",
      "          1.19707379e+01,   1.82547854e+00,   3.19483443e+00,\n",
      "          1.51483415e+00,   1.30049153e+00,   2.31009941e+00,\n",
      "         -3.26264907e+00],\n",
      "       [  4.85364226e+00,   2.17391175e-01,   1.29798403e+00,\n",
      "         -4.74462812e+00,   1.05928530e+00,   8.00906136e+00,\n",
      "          1.46800981e+00,  -2.49103630e+00,   3.49671168e+00,\n",
      "         -6.50009970e-01],\n",
      "       [  5.34338149e+00,   2.21773403e+00,   4.06803304e+00,\n",
      "         -5.17792632e+00,   6.48754265e-01,   6.95891285e+00,\n",
      "          1.49799521e+00,   5.16433549e-01,   3.12856683e+00,\n",
      "         -1.55271629e+00],\n",
      "       [  1.05568168e+01,  -8.40475330e-01,  -8.12276509e+00,\n",
      "         -5.77951236e+00,  -6.74441833e+00,  -2.89680818e+00,\n",
      "         -1.28020798e-01,   3.36118221e+00,  -2.63230779e+00,\n",
      "          1.22390772e+00],\n",
      "       [  1.34819204e+01,   5.41798407e+00,  -7.22432584e+00,\n",
      "          4.63090184e+00,  -1.12903424e+00,  -3.86702859e+00,\n",
      "          3.08926619e+00,   5.26372680e+00,  -2.04222196e+00,\n",
      "          1.44652625e+00]]), array([ 1,  1,  1,  1,  1,  1,  1,  2,  2,  2,  2,  2,  2,  2,  3,  3,  3,\n",
      "        3,  3,  3,  3,  4,  4,  4,  4,  4,  4,  4,  5,  5,  5,  5,  5,  5,\n",
      "        5,  6,  6,  6,  6,  6,  6,  6,  7,  7,  7,  7,  7,  7,  7,  8,  8,\n",
      "        8,  8,  8,  8,  8,  9,  9,  9,  9,  9,  9,  9, 10, 10, 10, 10, 10,\n",
      "       10, 10, 11, 11, 11, 11, 11, 11, 11, 12, 12, 12, 12, 12, 12, 12, 13,\n",
      "       13, 13, 13, 13, 13, 13, 14, 14, 14, 14, 14, 14, 14, 15, 15, 15, 15,\n",
      "       15, 15, 15], dtype=uint8), array([ 1,  1,  2,  2,  3,  3,  4,  4,  5,  5,  6,  6,  7,  7,  8,  8,  9,\n",
      "        9, 10, 10, 11, 11, 12, 12, 13, 13, 14, 14, 15, 15], dtype=uint8))\n"
     ]
    }
   ],
   "source": [
    "print(load_faces())"
   ]
  },
  {
   "cell_type": "markdown",
   "metadata": {},
   "source": [
    "Następnie definujemy metrykę euklidesową"
   ]
  },
  {
   "cell_type": "code",
   "execution_count": null,
   "metadata": {
    "collapsed": true
   },
   "outputs": [],
   "source": [
    "def euclides(matrix, vector):\n",
    "    return np.sqrt(np.sum((matrix - vector) ** 2, axis=1))"
   ]
  },
  {
   "cell_type": "markdown",
   "metadata": {},
   "source": [
    "Oraz funkcję pomocniczą do skalowania macierzy"
   ]
  },
  {
   "cell_type": "code",
   "execution_count": null,
   "metadata": {
    "collapsed": true
   },
   "outputs": [],
   "source": [
    "def scale(data, scale_factor):\n",
    "    x_train, x_test, y_train, y_test = data\n",
    "    x_train = x_train.copy()\n",
    "    x_test = x_test.copy()\n",
    "    x_train[:,-1] *= scale_factor\n",
    "    x_test[:,-1] *= scale_factor\n",
    "    return x_train, x_test, y_train, y_test"
   ]
  },
  {
   "cell_type": "markdown",
   "metadata": {},
   "source": [
    "W głównej części programu definujemy metody do obliczania predykcji na podstawie zadanej metryki"
   ]
  },
  {
   "cell_type": "code",
   "execution_count": 25,
   "metadata": {
    "collapsed": true
   },
   "outputs": [],
   "source": [
    "import numpy as np\n",
    "from sklearn.metrics import accuracy_score\n",
    "import metrics\n",
    "\n",
    "def predict(data):\n",
    "    x_train, x_test, y_train, y_test = data\n",
    "    return np.array([predict_specific(x_elem, x_train, y_train, metrics.euclides) for x_elem in x_test])\n",
    "\n",
    "\n",
    "def predict_specific(x_test_element, x_train, y_train, metric):\n",
    "    distance = metric(x_train, x_test_element)\n",
    "    nearest = np.argmin(distance)\n",
    "    return y_train[nearest]\n",
    "\n",
    "def prediction_error(prediction, y_test):\n",
    "    return 1 - accuracy_score(y_test, prediction)\n",
    "\n",
    "\n"
   ]
  },
  {
   "cell_type": "code",
   "execution_count": 29,
   "metadata": {
    "scrolled": true
   },
   "outputs": [
    {
     "name": "stdout",
     "output_type": "stream",
     "text": [
      "For scale: 1 error is: 0.0666666666667\n",
      "For scale: 2 error is: 0.1\n",
      "For scale: 3 error is: 0.1\n",
      "For scale: 4 error is: 0.1\n",
      "For scale: 5 error is: 0.133333333333\n",
      "For scale: 6 error is: 0.133333333333\n",
      "For scale: 7 error is: 0.133333333333\n",
      "For scale: 8 error is: 0.133333333333\n",
      "For scale: 9 error is: 0.166666666667\n",
      "For scale: 10 error is: 0.166666666667\n",
      "For scale: 11 error is: 0.166666666667\n",
      "For scale: 12 error is: 0.166666666667\n",
      "For scale: 13 error is: 0.166666666667\n",
      "For scale: 14 error is: 0.166666666667\n",
      "For scale: 15 error is: 0.166666666667\n",
      "For scale: 16 error is: 0.166666666667\n",
      "For scale: 17 error is: 0.2\n",
      "For scale: 18 error is: 0.233333333333\n",
      "For scale: 19 error is: 0.233333333333\n",
      "For scale: 20 error is: 0.266666666667\n"
     ]
    },
    {
     "data": {
      "image/png": "[encoded data removed]",
      "text/plain": [
       "<matplotlib.figure.Figure at 0x112efb518>"
      ]
     },
     "metadata": {},
     "output_type": "display_data"
    }
   ],
   "source": [
    "    from matplotlib import pyplot\n",
    "    import scaler\n",
    "    data = load_faces()\n",
    "    alpha_range = range(1, 21)\n",
    "    alpha_errors = []\n",
    "    for alpha in alpha_range:\n",
    "        scaled_data = scaler.scale(data, alpha)\n",
    "        prediction = predict(scaled_data)\n",
    "        error = prediction_error(prediction, y_test)\n",
    "        alpha_errors.append(error)\n",
    "        print(\"For scale: \" + str(alpha) + \" error is: \" + str(error))\n",
    "    pyplot.plot(alpha_range, alpha_errors, 'r-')\n",
    "    pyplot.plot(alpha_range, alpha_errors, 'bo')\n",
    "    pyplot.show()"
   ]
  },
  {
   "cell_type": "markdown",
   "metadata": {},
   "source": [
    "Z powyższych obliczeń wynika, że przeskalowanie ostatniej cechy spowodowało wzrost błędu predykcji. Warto zauważyć \n",
    ",że przeskalowanie ostatniej cechy nie wpływa liniowo na zmianę błędu. Widać na wykresie charakterystyczne \"schodki\"."
   ]
  },
  {
   "cell_type": "markdown",
   "metadata": {},
   "source": [
    "Kolejnym zadaniem było sprawdzenie błędu klasyfikacji dla danych z pliku spambase.ma"
   ]
  },
  {
   "cell_type": "code",
   "execution_count": 31,
   "metadata": {
    "scrolled": true
   },
   "outputs": [
    {
     "name": "stdout",
     "output_type": "stream",
     "text": [
      "Error of spam prediction: 0.17905021586\n"
     ]
    }
   ],
   "source": [
    "import loader\n",
    "spam_data = loader.load_spam()\n",
    "x_train, x_test, y_train, y_test = spam_data\n",
    "# Computed results\n",
    "predicted_data = predict(spam_data)\n",
    "# Check accuracy of prediction\n",
    "prediction_accuracy = accuracy_score(y_test, predicted_data)\n",
    "print(\"Error of spam prediction: \" + str(1 - prediction_accuracy))"
   ]
  },
  {
   "cell_type": "markdown",
   "metadata": {},
   "source": [
    "Poniższy kod łączy zbiory testowe i treningowe i przeprowadza na nich 5-fold cross validation"
   ]
  },
  {
   "cell_type": "code",
   "execution_count": 40,
   "metadata": {},
   "outputs": [
    {
     "name": "stdout",
     "output_type": "stream",
     "text": [
      "1. Cross validation test error 0.08628640891280744\n",
      "2. Cross validation test error 0.0873717131662182\n",
      "3. Cross validation test error 0.08976278147571168\n",
      "4. Cross validation test error 0.08563140253977249\n",
      "5. Cross validation test error 0.08759028466222915\n",
      "6. Cross validation test error 0.0915002596421659\n",
      "7. Cross validation test error 0.0847670301656989\n",
      "8. Cross validation test error 0.08976348959070954\n",
      "9. Cross validation test error 0.08389392437331825\n",
      "10. Cross validation test error 0.08911273190766181\n"
     ]
    }
   ],
   "source": [
    "from sklearn.model_selection import KFold\n",
    "def cross_validate_specific(x, y, folds_number):\n",
    "    rkf = KFold(n_splits=folds_number, shuffle=True)\n",
    "    error_rates = []\n",
    "    for train, test in rkf.split(x, y):\n",
    "        data = x[train], x[test], y[train], y[test]\n",
    "        prediction = predict(data)\n",
    "        error = prediction_error(prediction, y[test])\n",
    "        error_rates.append(error)\n",
    "    mean_error = np.array(error_rates).mean()\n",
    "    return mean_error\n",
    "\n",
    "\n",
    "def cross_validate(data, folds=5, repeats=10):\n",
    "    x_train, x_test, y_train, y_test = data\n",
    "    # Concat test and train data\n",
    "    x = np.vstack((x_train, x_test))\n",
    "    y = np.concatenate((y_train, y_test))\n",
    "    for i in range(10):\n",
    "        print(\"{i}. Cross validation test error {error}\".format(i=i + 1, error=cross_validate_specific(x, y, 5)))\n",
    "\n",
    "cross_validate(spam_data)"
   ]
  },
  {
   "cell_type": "markdown",
   "metadata": {},
   "source": [
    "Wyniki błędów są niższe od błędów pierwotnej predykcji"
   ]
  },
  {
   "cell_type": "markdown",
   "metadata": {},
   "source": [
    "**Ćw.2** 1-NN w wielu wymiarach"
   ]
  },
  {
   "cell_type": "markdown",
   "metadata": {},
   "source": [
    "Błąd klasyfikacji metody 1-NN dla serii problemów klasyfikacyjnych w zależności od wymiarowości przestrzeni (liczby cech i)\n"
   ]
  },
  {
   "cell_type": "code",
   "execution_count": 1,
   "metadata": {},
   "outputs": [
    {
     "data": {
      "image/png": "[encoded data removed]",
      "text/plain": [
       "<matplotlib.figure.Figure at 0x108afeb70>"
      ]
     },
     "metadata": {},
     "output_type": "display_data"
    },
    {
     "data": {
      "image/png": "[encoded data removed]",
      "text/plain": [
       "<matplotlib.figure.Figure at 0x10c656550>"
      ]
     },
     "metadata": {},
     "output_type": "display_data"
    }
   ],
   "source": [
    "    from hypercubes import compute_error_rates,compute_distance_rates\n",
    "    import loader\n",
    "    data, max_dimensions = loader.load_hypercubes()\n",
    "    compute_error_rates(data, max_dimensions)\n",
    "    compute_distance_rates(data, max_dimensions)"
   ]
  },
  {
   "cell_type": "markdown",
   "metadata": {
    "collapsed": true
   },
   "source": [
    "Z pierwszego wykresu można wywnioskować, że błąd klasyfikacji wzrasta wraz z powiększaniem się"
   ]
  }
 ],
 "metadata": {
  "kernelspec": {
   "display_name": "Python 3",
   "language": "python",
   "name": "python3"
  },
  "language_info": {
   "codemirror_mode": {
    "name": "ipython",
    "version": 3
   },
   "file_extension": ".py",
   "mimetype": "text/x-python",
   "name": "python",
   "nbconvert_exporter": "python",
   "pygments_lexer": "ipython3",
   "version": "3.6.2"
  }
 },
 "nbformat": 4,
 "nbformat_minor": 2
}
